{
 "cells": [
  {
   "cell_type": "code",
   "metadata": {},
   "outputs": [],
   "source": [
    "import cv2\n",
    "import os\n",
    "from tensorflow.python.keras.callbacks import ModelCheckpoint\n",
    "from tensorflow.python.keras.callbacks import CSVLogger\n",
    "from tensorflow.python.keras.callbacks import EarlyStopping\n",
    "from tensorflow.python.keras.optimizers import Adam\n",
    "from models import *\n",
    "from data_generator import *\n",
    "\n",
    "train_frames_dir = './data/train_frames/'\n",
    "train_masks_dir = './data/train_masks/'\n",
    "\n",
    "val_frames_dir = './data/val_frames/'\n",
    "val_masks_dir = './data/val_masks/'\n",
    "\n",
    "INPUT_SHAPE = (256, 256, 3)\n",
    "NO_CLASSES = 20\n",
    "\n",
    "NO_OF_TRAINING_FRAMES = len(os.listdir(train_frames_dir))\n",
    "NO_OF_VAL_FRAMES = len(os.listdir(val_frames_dir))\n",
    "\n",
    "NO_OF_EPOCHS = 10\n",
    "\n",
    "BATCH_SIZE = 4\n",
    "\n",
    "color_mapping = {\n",
    "    0 : (128, 0,128),\n",
    "    1 : (244, 35,232),\n",
    "    2 : ( 70, 70, 70),\n",
    "    3 : (102,102,156),\n",
    "    4 : (190,153,153),\n",
    "    5 : (153,153,153),\n",
    "    6 : (250,170, 30),\n",
    "    7 : (220,220,  0),\n",
    "    8 : (107,142, 35),\n",
    "    9 : (152,251,152),\n",
    "    10 : ( 70,130,180),\n",
    "    11 : (220, 20, 60),\n",
    "    12 : (255,  0,  0),\n",
    "    13 : (  0,  0,142),\n",
    "    14 : (  0,  0, 70),\n",
    "    15 : (  0, 60,100),\n",
    "    16 : (  0, 80,100),\n",
    "    17 : (  0,  0,230),\n",
    "    18 : (119, 11, 32),\n",
    "    19 : (180,165,180)\n",
    "}"
   ]
  },
  {
   "cell_type": "code",
   "metadata": {},
   "outputs": [],
   "source": [
    "model = resnet50_encoder_unet_decoder(num_classes=NO_CLASSES, input_size=INPUT_SHAPE)"
   ]
  },
  {
   "cell_type": "code",
   "metadata": {},
   "outputs": [],
   "source": [
    "train_gen = data_gen(img_folder = train_frames_dir,\n",
    "                    mask_folder = train_masks_dir,\n",
    "                    batch_size = BATCH_SIZE,\n",
    "                    num_classes = NO_CLASSES,\n",
    "                    input_shape = INPUT_SHAPE)\n",
    "\n",
    "val_gen = data_gen(img_folder = val_frames_dir,\n",
    "                    mask_folder = val_masks_dir,\n",
    "                    batch_size = BATCH_SIZE,\n",
    "                    num_classes = NO_CLASSES,\n",
    "                    input_shape = INPUT_SHAPE)"
   ]
  },
  {
   "cell_type": "code",
   "metadata": {},
   "outputs": [],
   "source": [
    "results = model.fit_generator(train_gen, epochs=NO_OF_EPOCHS, \n",
    "                          steps_per_epoch = (NO_OF_TRAINING_FRAMES//BATCH_SIZE),\n",
    "                          validation_data=val_gen, \n",
    "                          validation_steps=(NO_OF_VAL_FRAMES//BATCH_SIZE))"
   ]
  },
  {
   "cell_type": "code",
   "metadata": {},
   "outputs": [],
   "source": [
    "model.save('trainedModels/main_model.h5')"
   ]
  },
  {
   "cell_type": "code",
   "metadata": {},
   "outputs": [],
   "source": [
    "val_frames = os.listdir(val_frames_dir)\n",
    "train_img = cv2.imread(val_frames_dir+'/'+val_frames[1])/255"
   ]
  },
  {
   "cell_type": "code",
   "metadata": {},
   "outputs": [],
   "source": [
    "prediction = model.predict(np.expand_dims(train_img, axis=0))"
   ]
  },
  {
   "cell_type": "code",
   "metadata": {},
   "outputs": [],
   "source": []
  },
  {
   "cell_type": "code",
   "metadata": {},
   "outputs": [],
   "source": [
    "labels = np.argmax(prediction[0], axis=-1)\n",
    "labels_colored = np.empty(shape=(labels.shape[0], labels.shape[1],3))\n",
    "for lab in color_mapping:\n",
    "    labels_colored[labels == lab] = np.array(color_mapping[lab])\n",
    "\n",
    "cv2.imwrite('segmentation_example.png', labels_colored)"
   ]
  }
 ],
 "metadata": {
  "kernelspec": {
   "display_name": "Python 3",
   "language": "python",
   "name": "python3"
  },
  "language_info": {
   "codemirror_mode": {
    "name": "ipython",
    "version": 3
   },
   "file_extension": ".py",
   "mimetype": "text/x-python",
   "name": "python",
   "nbconvert_exporter": "python",
   "pygments_lexer": "ipython3",
   "version": "3.7.1"
  }
 },
 "nbformat": 4,
 "nbformat_minor": 4
}